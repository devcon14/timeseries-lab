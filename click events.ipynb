{
 "cells": [
  {
   "cell_type": "markdown",
   "metadata": {},
   "source": [
    "* plotly\n",
    "\n",
    "> FigureWidget wasn't working till 4.6?\n",
    "\n",
    "* bq plot\n",
    "\n",
    "> good interactions, ok plots\n",
    "\n",
    "* altair\n",
    "\n",
    "> great plot api & selections but we get stuck on [callbacks](https://github.com/altair-viz/altair/issues/1816)\n"
   ]
  },
  {
   "cell_type": "code",
   "execution_count": 1,
   "metadata": {},
   "outputs": [
    {
     "data": {
      "text/html": [
       "\n",
       "<div id=\"altair-viz-b14b14b934604ab482b954429eb54fe9\"></div>\n",
       "<script type=\"text/javascript\">\n",
       "  (function(spec, embedOpt){\n",
       "    const outputDiv = document.getElementById(\"altair-viz-b14b14b934604ab482b954429eb54fe9\");\n",
       "    const paths = {\n",
       "      \"vega\": \"https://cdn.jsdelivr.net/npm//vega@5?noext\",\n",
       "      \"vega-lib\": \"https://cdn.jsdelivr.net/npm//vega-lib?noext\",\n",
       "      \"vega-lite\": \"https://cdn.jsdelivr.net/npm//vega-lite@4.0.2?noext\",\n",
       "      \"vega-embed\": \"https://cdn.jsdelivr.net/npm//vega-embed@6?noext\",\n",
       "    };\n",
       "\n",
       "    function loadScript(lib) {\n",
       "      return new Promise(function(resolve, reject) {\n",
       "        var s = document.createElement('script');\n",
       "        s.src = paths[lib];\n",
       "        s.async = true;\n",
       "        s.onload = () => resolve(paths[lib]);\n",
       "        s.onerror = () => reject(`Error loading script: ${paths[lib]}`);\n",
       "        document.getElementsByTagName(\"head\")[0].appendChild(s);\n",
       "      });\n",
       "    }\n",
       "\n",
       "    function showError(err) {\n",
       "      outputDiv.innerHTML = `<div class=\"error\" style=\"color:red;\">${err}</div>`;\n",
       "      throw err;\n",
       "    }\n",
       "\n",
       "    function displayChart(vegaEmbed) {\n",
       "      vegaEmbed(outputDiv, spec, embedOpt)\n",
       "        .catch(err => showError(`Javascript Error: ${err.message}<br>This usually means there's a typo in your chart specification. See the javascript console for the full traceback.`));\n",
       "    }\n",
       "\n",
       "    if(typeof define === \"function\" && define.amd) {\n",
       "      requirejs.config({paths});\n",
       "      require([\"vega-embed\"], displayChart, err => showError(`Error loading script: ${err.message}`));\n",
       "    } else if (typeof vegaEmbed === \"function\") {\n",
       "      displayChart(vegaEmbed);\n",
       "    } else {\n",
       "      loadScript(\"vega\")\n",
       "        .then(() => loadScript(\"vega-lite\"))\n",
       "        .then(() => loadScript(\"vega-embed\"))\n",
       "        .catch(showError)\n",
       "        .then(() => displayChart(vegaEmbed));\n",
       "    }\n",
       "  })({\"config\": {\"view\": {\"continuousWidth\": 400, \"continuousHeight\": 300}}, \"vconcat\": [{\"mark\": \"area\", \"encoding\": {\"x\": {\"type\": \"temporal\", \"field\": \"date\", \"scale\": {\"domain\": {\"selection\": \"selector001\"}}}, \"y\": {\"type\": \"quantitative\", \"field\": \"price\"}}, \"height\": 200, \"width\": 600}, {\"mark\": \"area\", \"encoding\": {\"x\": {\"type\": \"temporal\", \"field\": \"date\"}, \"y\": {\"type\": \"quantitative\", \"field\": \"price\"}}, \"height\": 60, \"selection\": {\"selector001\": {\"type\": \"interval\", \"encodings\": [\"x\"]}}, \"width\": 600}], \"data\": {\"url\": \"https://vega.github.io/vega-datasets/data/sp500.csv\"}, \"$schema\": \"https://vega.github.io/schema/vega-lite/v4.0.2.json\"}, {\"mode\": \"vega-lite\"});\n",
       "</script>"
      ],
      "text/plain": [
       "alt.VConcatChart(...)"
      ]
     },
     "execution_count": 1,
     "metadata": {},
     "output_type": "execute_result"
    }
   ],
   "source": [
    "\n",
    "# https://altair-viz.github.io/gallery/interval_selection.html\n",
    "import altair as alt\n",
    "from vega_datasets import data\n",
    "\n",
    "source = data.sp500.url\n",
    "\n",
    "brush = alt.selection(type='interval', encodings=['x'])\n",
    "\n",
    "base = alt.Chart(source).mark_area().encode(\n",
    "    x = 'date:T',\n",
    "    y = 'price:Q'\n",
    ").properties(\n",
    "    width=600,\n",
    "    height=200\n",
    ")\n",
    "\n",
    "upper = base.encode(\n",
    "    alt.X('date:T', scale=alt.Scale(domain=brush))\n",
    ")\n",
    "\n",
    "lower = base.properties(\n",
    "    height=60\n",
    ").add_selection(brush)\n",
    "\n",
    "upper & lower"
   ]
  },
  {
   "cell_type": "code",
   "execution_count": 5,
   "metadata": {},
   "outputs": [
    {
     "name": "stdout",
     "output_type": "stream",
     "text": [
      "0        2500.00\n",
      "1        2495.62\n",
      "2        2449.01\n",
      "3        2457.90\n",
      "4        2466.35\n",
      "          ...   \n",
      "19330    9165.70\n",
      "19331    9190.00\n",
      "19332    9163.58\n",
      "19333    9175.00\n",
      "19334    9200.59\n",
      "Name: Close, Length: 19335, dtype: float64\n"
     ]
    },
    {
     "ename": "MaxRowsError",
     "evalue": "The number of rows in your dataset is greater than the maximum allowed (5000). For information on how to plot larger datasets in Altair, see the documentation",
     "output_type": "error",
     "traceback": [
      "\u001b[1;31m---------------------------------------------------------------------------\u001b[0m",
      "\u001b[1;31mMaxRowsError\u001b[0m                              Traceback (most recent call last)",
      "\u001b[1;32m~\\AppData\\Local\\Programs\\Python\\Python37\\lib\\site-packages\\altair\\vegalite\\v4\\api.py\u001b[0m in \u001b[0;36mto_dict\u001b[1;34m(self, *args, **kwargs)\u001b[0m\n\u001b[0;32m    353\u001b[0m         \u001b[0mcopy\u001b[0m \u001b[1;33m=\u001b[0m \u001b[0mself\u001b[0m\u001b[1;33m.\u001b[0m\u001b[0mcopy\u001b[0m\u001b[1;33m(\u001b[0m\u001b[0mdeep\u001b[0m\u001b[1;33m=\u001b[0m\u001b[1;32mFalse\u001b[0m\u001b[1;33m)\u001b[0m\u001b[1;33m\u001b[0m\u001b[1;33m\u001b[0m\u001b[0m\n\u001b[0;32m    354\u001b[0m         \u001b[0moriginal_data\u001b[0m \u001b[1;33m=\u001b[0m \u001b[0mgetattr\u001b[0m\u001b[1;33m(\u001b[0m\u001b[0mcopy\u001b[0m\u001b[1;33m,\u001b[0m \u001b[1;34m'data'\u001b[0m\u001b[1;33m,\u001b[0m \u001b[0mUndefined\u001b[0m\u001b[1;33m)\u001b[0m\u001b[1;33m\u001b[0m\u001b[1;33m\u001b[0m\u001b[0m\n\u001b[1;32m--> 355\u001b[1;33m         \u001b[0mcopy\u001b[0m\u001b[1;33m.\u001b[0m\u001b[0mdata\u001b[0m \u001b[1;33m=\u001b[0m \u001b[0m_prepare_data\u001b[0m\u001b[1;33m(\u001b[0m\u001b[0moriginal_data\u001b[0m\u001b[1;33m,\u001b[0m \u001b[0mcontext\u001b[0m\u001b[1;33m)\u001b[0m\u001b[1;33m\u001b[0m\u001b[1;33m\u001b[0m\u001b[0m\n\u001b[0m\u001b[0;32m    356\u001b[0m \u001b[1;33m\u001b[0m\u001b[0m\n\u001b[0;32m    357\u001b[0m         \u001b[1;32mif\u001b[0m \u001b[0moriginal_data\u001b[0m \u001b[1;32mis\u001b[0m \u001b[1;32mnot\u001b[0m \u001b[0mUndefined\u001b[0m\u001b[1;33m:\u001b[0m\u001b[1;33m\u001b[0m\u001b[1;33m\u001b[0m\u001b[0m\n",
      "\u001b[1;32m~\\AppData\\Local\\Programs\\Python\\Python37\\lib\\site-packages\\altair\\vegalite\\v4\\api.py\u001b[0m in \u001b[0;36m_prepare_data\u001b[1;34m(data, context)\u001b[0m\n\u001b[0;32m     82\u001b[0m     \u001b[1;31m# convert dataframes  or objects with __geo_interface__ to dict\u001b[0m\u001b[1;33m\u001b[0m\u001b[1;33m\u001b[0m\u001b[1;33m\u001b[0m\u001b[0m\n\u001b[0;32m     83\u001b[0m     \u001b[1;32mif\u001b[0m \u001b[0misinstance\u001b[0m\u001b[1;33m(\u001b[0m\u001b[0mdata\u001b[0m\u001b[1;33m,\u001b[0m \u001b[0mpd\u001b[0m\u001b[1;33m.\u001b[0m\u001b[0mDataFrame\u001b[0m\u001b[1;33m)\u001b[0m \u001b[1;32mor\u001b[0m \u001b[0mhasattr\u001b[0m\u001b[1;33m(\u001b[0m\u001b[0mdata\u001b[0m\u001b[1;33m,\u001b[0m \u001b[1;34m'__geo_interface__'\u001b[0m\u001b[1;33m)\u001b[0m\u001b[1;33m:\u001b[0m\u001b[1;33m\u001b[0m\u001b[1;33m\u001b[0m\u001b[0m\n\u001b[1;32m---> 84\u001b[1;33m         \u001b[0mdata\u001b[0m \u001b[1;33m=\u001b[0m \u001b[0mpipe\u001b[0m\u001b[1;33m(\u001b[0m\u001b[0mdata\u001b[0m\u001b[1;33m,\u001b[0m \u001b[0mdata_transformers\u001b[0m\u001b[1;33m.\u001b[0m\u001b[0mget\u001b[0m\u001b[1;33m(\u001b[0m\u001b[1;33m)\u001b[0m\u001b[1;33m)\u001b[0m\u001b[1;33m\u001b[0m\u001b[1;33m\u001b[0m\u001b[0m\n\u001b[0m\u001b[0;32m     85\u001b[0m \u001b[1;33m\u001b[0m\u001b[0m\n\u001b[0;32m     86\u001b[0m     \u001b[1;31m# convert string input to a URLData\u001b[0m\u001b[1;33m\u001b[0m\u001b[1;33m\u001b[0m\u001b[1;33m\u001b[0m\u001b[0m\n",
      "\u001b[1;32m~\\AppData\\Roaming\\Python\\Python37\\site-packages\\toolz\\functoolz.py\u001b[0m in \u001b[0;36mpipe\u001b[1;34m(data, *funcs)\u001b[0m\n\u001b[0;32m    632\u001b[0m     \"\"\"\n\u001b[0;32m    633\u001b[0m     \u001b[1;32mfor\u001b[0m \u001b[0mfunc\u001b[0m \u001b[1;32min\u001b[0m \u001b[0mfuncs\u001b[0m\u001b[1;33m:\u001b[0m\u001b[1;33m\u001b[0m\u001b[1;33m\u001b[0m\u001b[0m\n\u001b[1;32m--> 634\u001b[1;33m         \u001b[0mdata\u001b[0m \u001b[1;33m=\u001b[0m \u001b[0mfunc\u001b[0m\u001b[1;33m(\u001b[0m\u001b[0mdata\u001b[0m\u001b[1;33m)\u001b[0m\u001b[1;33m\u001b[0m\u001b[1;33m\u001b[0m\u001b[0m\n\u001b[0m\u001b[0;32m    635\u001b[0m     \u001b[1;32mreturn\u001b[0m \u001b[0mdata\u001b[0m\u001b[1;33m\u001b[0m\u001b[1;33m\u001b[0m\u001b[0m\n\u001b[0;32m    636\u001b[0m \u001b[1;33m\u001b[0m\u001b[0m\n",
      "\u001b[1;32m~\\AppData\\Roaming\\Python\\Python37\\site-packages\\toolz\\functoolz.py\u001b[0m in \u001b[0;36m__call__\u001b[1;34m(self, *args, **kwargs)\u001b[0m\n\u001b[0;32m    301\u001b[0m     \u001b[1;32mdef\u001b[0m \u001b[0m__call__\u001b[0m\u001b[1;33m(\u001b[0m\u001b[0mself\u001b[0m\u001b[1;33m,\u001b[0m \u001b[1;33m*\u001b[0m\u001b[0margs\u001b[0m\u001b[1;33m,\u001b[0m \u001b[1;33m**\u001b[0m\u001b[0mkwargs\u001b[0m\u001b[1;33m)\u001b[0m\u001b[1;33m:\u001b[0m\u001b[1;33m\u001b[0m\u001b[1;33m\u001b[0m\u001b[0m\n\u001b[0;32m    302\u001b[0m         \u001b[1;32mtry\u001b[0m\u001b[1;33m:\u001b[0m\u001b[1;33m\u001b[0m\u001b[1;33m\u001b[0m\u001b[0m\n\u001b[1;32m--> 303\u001b[1;33m             \u001b[1;32mreturn\u001b[0m \u001b[0mself\u001b[0m\u001b[1;33m.\u001b[0m\u001b[0m_partial\u001b[0m\u001b[1;33m(\u001b[0m\u001b[1;33m*\u001b[0m\u001b[0margs\u001b[0m\u001b[1;33m,\u001b[0m \u001b[1;33m**\u001b[0m\u001b[0mkwargs\u001b[0m\u001b[1;33m)\u001b[0m\u001b[1;33m\u001b[0m\u001b[1;33m\u001b[0m\u001b[0m\n\u001b[0m\u001b[0;32m    304\u001b[0m         \u001b[1;32mexcept\u001b[0m \u001b[0mTypeError\u001b[0m \u001b[1;32mas\u001b[0m \u001b[0mexc\u001b[0m\u001b[1;33m:\u001b[0m\u001b[1;33m\u001b[0m\u001b[1;33m\u001b[0m\u001b[0m\n\u001b[0;32m    305\u001b[0m             \u001b[1;32mif\u001b[0m \u001b[0mself\u001b[0m\u001b[1;33m.\u001b[0m\u001b[0m_should_curry\u001b[0m\u001b[1;33m(\u001b[0m\u001b[0margs\u001b[0m\u001b[1;33m,\u001b[0m \u001b[0mkwargs\u001b[0m\u001b[1;33m,\u001b[0m \u001b[0mexc\u001b[0m\u001b[1;33m)\u001b[0m\u001b[1;33m:\u001b[0m\u001b[1;33m\u001b[0m\u001b[1;33m\u001b[0m\u001b[0m\n",
      "\u001b[1;32m~\\AppData\\Local\\Programs\\Python\\Python37\\lib\\site-packages\\altair\\vegalite\\data.py\u001b[0m in \u001b[0;36mdefault_data_transformer\u001b[1;34m(data, max_rows)\u001b[0m\n\u001b[0;32m     11\u001b[0m \u001b[1;33m@\u001b[0m\u001b[0mcurry\u001b[0m\u001b[1;33m\u001b[0m\u001b[1;33m\u001b[0m\u001b[0m\n\u001b[0;32m     12\u001b[0m \u001b[1;32mdef\u001b[0m \u001b[0mdefault_data_transformer\u001b[0m\u001b[1;33m(\u001b[0m\u001b[0mdata\u001b[0m\u001b[1;33m,\u001b[0m \u001b[0mmax_rows\u001b[0m\u001b[1;33m=\u001b[0m\u001b[1;36m5000\u001b[0m\u001b[1;33m)\u001b[0m\u001b[1;33m:\u001b[0m\u001b[1;33m\u001b[0m\u001b[1;33m\u001b[0m\u001b[0m\n\u001b[1;32m---> 13\u001b[1;33m     \u001b[1;32mreturn\u001b[0m \u001b[0mpipe\u001b[0m\u001b[1;33m(\u001b[0m\u001b[0mdata\u001b[0m\u001b[1;33m,\u001b[0m \u001b[0mlimit_rows\u001b[0m\u001b[1;33m(\u001b[0m\u001b[0mmax_rows\u001b[0m\u001b[1;33m=\u001b[0m\u001b[0mmax_rows\u001b[0m\u001b[1;33m)\u001b[0m\u001b[1;33m,\u001b[0m \u001b[0mto_values\u001b[0m\u001b[1;33m)\u001b[0m\u001b[1;33m\u001b[0m\u001b[1;33m\u001b[0m\u001b[0m\n\u001b[0m\u001b[0;32m     14\u001b[0m \u001b[1;33m\u001b[0m\u001b[0m\n\u001b[0;32m     15\u001b[0m \u001b[1;33m\u001b[0m\u001b[0m\n",
      "\u001b[1;32m~\\AppData\\Roaming\\Python\\Python37\\site-packages\\toolz\\functoolz.py\u001b[0m in \u001b[0;36mpipe\u001b[1;34m(data, *funcs)\u001b[0m\n\u001b[0;32m    632\u001b[0m     \"\"\"\n\u001b[0;32m    633\u001b[0m     \u001b[1;32mfor\u001b[0m \u001b[0mfunc\u001b[0m \u001b[1;32min\u001b[0m \u001b[0mfuncs\u001b[0m\u001b[1;33m:\u001b[0m\u001b[1;33m\u001b[0m\u001b[1;33m\u001b[0m\u001b[0m\n\u001b[1;32m--> 634\u001b[1;33m         \u001b[0mdata\u001b[0m \u001b[1;33m=\u001b[0m \u001b[0mfunc\u001b[0m\u001b[1;33m(\u001b[0m\u001b[0mdata\u001b[0m\u001b[1;33m)\u001b[0m\u001b[1;33m\u001b[0m\u001b[1;33m\u001b[0m\u001b[0m\n\u001b[0m\u001b[0;32m    635\u001b[0m     \u001b[1;32mreturn\u001b[0m \u001b[0mdata\u001b[0m\u001b[1;33m\u001b[0m\u001b[1;33m\u001b[0m\u001b[0m\n\u001b[0;32m    636\u001b[0m \u001b[1;33m\u001b[0m\u001b[0m\n",
      "\u001b[1;32m~\\AppData\\Roaming\\Python\\Python37\\site-packages\\toolz\\functoolz.py\u001b[0m in \u001b[0;36m__call__\u001b[1;34m(self, *args, **kwargs)\u001b[0m\n\u001b[0;32m    301\u001b[0m     \u001b[1;32mdef\u001b[0m \u001b[0m__call__\u001b[0m\u001b[1;33m(\u001b[0m\u001b[0mself\u001b[0m\u001b[1;33m,\u001b[0m \u001b[1;33m*\u001b[0m\u001b[0margs\u001b[0m\u001b[1;33m,\u001b[0m \u001b[1;33m**\u001b[0m\u001b[0mkwargs\u001b[0m\u001b[1;33m)\u001b[0m\u001b[1;33m:\u001b[0m\u001b[1;33m\u001b[0m\u001b[1;33m\u001b[0m\u001b[0m\n\u001b[0;32m    302\u001b[0m         \u001b[1;32mtry\u001b[0m\u001b[1;33m:\u001b[0m\u001b[1;33m\u001b[0m\u001b[1;33m\u001b[0m\u001b[0m\n\u001b[1;32m--> 303\u001b[1;33m             \u001b[1;32mreturn\u001b[0m \u001b[0mself\u001b[0m\u001b[1;33m.\u001b[0m\u001b[0m_partial\u001b[0m\u001b[1;33m(\u001b[0m\u001b[1;33m*\u001b[0m\u001b[0margs\u001b[0m\u001b[1;33m,\u001b[0m \u001b[1;33m**\u001b[0m\u001b[0mkwargs\u001b[0m\u001b[1;33m)\u001b[0m\u001b[1;33m\u001b[0m\u001b[1;33m\u001b[0m\u001b[0m\n\u001b[0m\u001b[0;32m    304\u001b[0m         \u001b[1;32mexcept\u001b[0m \u001b[0mTypeError\u001b[0m \u001b[1;32mas\u001b[0m \u001b[0mexc\u001b[0m\u001b[1;33m:\u001b[0m\u001b[1;33m\u001b[0m\u001b[1;33m\u001b[0m\u001b[0m\n\u001b[0;32m    305\u001b[0m             \u001b[1;32mif\u001b[0m \u001b[0mself\u001b[0m\u001b[1;33m.\u001b[0m\u001b[0m_should_curry\u001b[0m\u001b[1;33m(\u001b[0m\u001b[0margs\u001b[0m\u001b[1;33m,\u001b[0m \u001b[0mkwargs\u001b[0m\u001b[1;33m,\u001b[0m \u001b[0mexc\u001b[0m\u001b[1;33m)\u001b[0m\u001b[1;33m:\u001b[0m\u001b[1;33m\u001b[0m\u001b[1;33m\u001b[0m\u001b[0m\n",
      "\u001b[1;32m~\\AppData\\Local\\Programs\\Python\\Python37\\lib\\site-packages\\altair\\utils\\data.py\u001b[0m in \u001b[0;36mlimit_rows\u001b[1;34m(data, max_rows)\u001b[0m\n\u001b[0;32m     76\u001b[0m                            \u001b[1;34m'than the maximum allowed ({}). '\u001b[0m\u001b[1;33m\u001b[0m\u001b[1;33m\u001b[0m\u001b[0m\n\u001b[0;32m     77\u001b[0m                            \u001b[1;34m'For information on how to plot larger datasets '\u001b[0m\u001b[1;33m\u001b[0m\u001b[1;33m\u001b[0m\u001b[0m\n\u001b[1;32m---> 78\u001b[1;33m                            'in Altair, see the documentation'.format(max_rows))\n\u001b[0m\u001b[0;32m     79\u001b[0m     \u001b[1;32mreturn\u001b[0m \u001b[0mdata\u001b[0m\u001b[1;33m\u001b[0m\u001b[1;33m\u001b[0m\u001b[0m\n\u001b[0;32m     80\u001b[0m \u001b[1;33m\u001b[0m\u001b[0m\n",
      "\u001b[1;31mMaxRowsError\u001b[0m: The number of rows in your dataset is greater than the maximum allowed (5000). For information on how to plot larger datasets in Altair, see the documentation"
     ]
    },
    {
     "data": {
      "text/plain": [
       "alt.Chart(...)"
      ]
     },
     "execution_count": 5,
     "metadata": {},
     "output_type": "execute_result"
    }
   ],
   "source": [
    "import altair as alt\n",
    "\n",
    "# brush = alt.selection_interval()\n",
    "# brush = alt.selection_interval(encodings=['x'])\n",
    "single = alt.selection_single(on='mouseover')\n",
    "scales = alt.selection_interval(bind='scales')\n",
    "\n",
    "print (df.Close)\n",
    "df.Date = pd.to_datetime(df.Date)\n",
    "\n",
    "alt.Chart(df).mark_line().encode(\n",
    "    x='Date:T',\n",
    "    y='Close:Q',\n",
    ").add_selection(\n",
    "    single\n",
    ")"
   ]
  },
  {
   "cell_type": "code",
   "execution_count": 3,
   "metadata": {},
   "outputs": [
    {
     "data": {
      "text/html": [
       "<div>\n",
       "<style scoped>\n",
       "    .dataframe tbody tr th:only-of-type {\n",
       "        vertical-align: middle;\n",
       "    }\n",
       "\n",
       "    .dataframe tbody tr th {\n",
       "        vertical-align: top;\n",
       "    }\n",
       "\n",
       "    .dataframe thead th {\n",
       "        text-align: right;\n",
       "    }\n",
       "</style>\n",
       "<table border=\"1\" class=\"dataframe\">\n",
       "  <thead>\n",
       "    <tr style=\"text-align: right;\">\n",
       "      <th></th>\n",
       "      <th>Date</th>\n",
       "      <th>Symbol</th>\n",
       "      <th>Open</th>\n",
       "      <th>High</th>\n",
       "      <th>Low</th>\n",
       "      <th>Close</th>\n",
       "      <th>Volume BTC</th>\n",
       "      <th>Volume USD</th>\n",
       "      <th>Range</th>\n",
       "      <th>Value</th>\n",
       "      <th>...</th>\n",
       "      <th>PercentChange</th>\n",
       "      <th>AbsPercentChange</th>\n",
       "      <th>DeTrend</th>\n",
       "      <th>Normalised</th>\n",
       "      <th>Year</th>\n",
       "      <th>Month</th>\n",
       "      <th>Doy</th>\n",
       "      <th>Week</th>\n",
       "      <th>DayName</th>\n",
       "      <th>Hour</th>\n",
       "    </tr>\n",
       "  </thead>\n",
       "  <tbody>\n",
       "    <tr>\n",
       "      <th>0</th>\n",
       "      <td>2017-07-01 11:00:00</td>\n",
       "      <td>BTCUSD</td>\n",
       "      <td>2506.50</td>\n",
       "      <td>2510.62</td>\n",
       "      <td>2495.50</td>\n",
       "      <td>2500.00</td>\n",
       "      <td>208.52</td>\n",
       "      <td>521903.70</td>\n",
       "      <td>15.12</td>\n",
       "      <td>2500.00</td>\n",
       "      <td>...</td>\n",
       "      <td>NaN</td>\n",
       "      <td>NaN</td>\n",
       "      <td>2500.000000</td>\n",
       "      <td>-1.530610</td>\n",
       "      <td>2017</td>\n",
       "      <td>7</td>\n",
       "      <td>182</td>\n",
       "      <td>26</td>\n",
       "      <td>Saturday</td>\n",
       "      <td>11</td>\n",
       "    </tr>\n",
       "    <tr>\n",
       "      <th>1</th>\n",
       "      <td>2017-07-01 12:00:00</td>\n",
       "      <td>BTCUSD</td>\n",
       "      <td>2500.00</td>\n",
       "      <td>2503.69</td>\n",
       "      <td>2488.25</td>\n",
       "      <td>2495.62</td>\n",
       "      <td>243.08</td>\n",
       "      <td>607308.42</td>\n",
       "      <td>15.44</td>\n",
       "      <td>2495.62</td>\n",
       "      <td>...</td>\n",
       "      <td>-0.001752</td>\n",
       "      <td>0.001752</td>\n",
       "      <td>2495.596391</td>\n",
       "      <td>-1.532005</td>\n",
       "      <td>2017</td>\n",
       "      <td>7</td>\n",
       "      <td>182</td>\n",
       "      <td>26</td>\n",
       "      <td>Saturday</td>\n",
       "      <td>12</td>\n",
       "    </tr>\n",
       "    <tr>\n",
       "      <th>2</th>\n",
       "      <td>2017-07-01 13:00:00</td>\n",
       "      <td>BTCUSD</td>\n",
       "      <td>2495.62</td>\n",
       "      <td>2495.62</td>\n",
       "      <td>2433.59</td>\n",
       "      <td>2449.01</td>\n",
       "      <td>579.13</td>\n",
       "      <td>1421546.81</td>\n",
       "      <td>62.03</td>\n",
       "      <td>2449.01</td>\n",
       "      <td>...</td>\n",
       "      <td>-0.018677</td>\n",
       "      <td>0.018677</td>\n",
       "      <td>2448.962783</td>\n",
       "      <td>-1.546849</td>\n",
       "      <td>2017</td>\n",
       "      <td>7</td>\n",
       "      <td>182</td>\n",
       "      <td>26</td>\n",
       "      <td>Saturday</td>\n",
       "      <td>13</td>\n",
       "    </tr>\n",
       "    <tr>\n",
       "      <th>3</th>\n",
       "      <td>2017-07-01 14:00:00</td>\n",
       "      <td>BTCUSD</td>\n",
       "      <td>2449.01</td>\n",
       "      <td>2480.60</td>\n",
       "      <td>2438.88</td>\n",
       "      <td>2457.90</td>\n",
       "      <td>528.75</td>\n",
       "      <td>1302198.58</td>\n",
       "      <td>41.72</td>\n",
       "      <td>2457.90</td>\n",
       "      <td>...</td>\n",
       "      <td>0.003630</td>\n",
       "      <td>0.003630</td>\n",
       "      <td>2457.829174</td>\n",
       "      <td>-1.544018</td>\n",
       "      <td>2017</td>\n",
       "      <td>7</td>\n",
       "      <td>182</td>\n",
       "      <td>26</td>\n",
       "      <td>Saturday</td>\n",
       "      <td>14</td>\n",
       "    </tr>\n",
       "    <tr>\n",
       "      <th>4</th>\n",
       "      <td>2017-07-01 15:00:00</td>\n",
       "      <td>BTCUSD</td>\n",
       "      <td>2457.90</td>\n",
       "      <td>2471.88</td>\n",
       "      <td>2452.10</td>\n",
       "      <td>2466.35</td>\n",
       "      <td>292.31</td>\n",
       "      <td>719666.88</td>\n",
       "      <td>19.78</td>\n",
       "      <td>2466.35</td>\n",
       "      <td>...</td>\n",
       "      <td>0.003438</td>\n",
       "      <td>0.003438</td>\n",
       "      <td>2466.255565</td>\n",
       "      <td>-1.541327</td>\n",
       "      <td>2017</td>\n",
       "      <td>7</td>\n",
       "      <td>182</td>\n",
       "      <td>26</td>\n",
       "      <td>Saturday</td>\n",
       "      <td>15</td>\n",
       "    </tr>\n",
       "  </tbody>\n",
       "</table>\n",
       "<p>5 rows × 21 columns</p>\n",
       "</div>"
      ],
      "text/plain": [
       "                  Date  Symbol     Open     High      Low    Close  \\\n",
       "0  2017-07-01 11:00:00  BTCUSD  2506.50  2510.62  2495.50  2500.00   \n",
       "1  2017-07-01 12:00:00  BTCUSD  2500.00  2503.69  2488.25  2495.62   \n",
       "2  2017-07-01 13:00:00  BTCUSD  2495.62  2495.62  2433.59  2449.01   \n",
       "3  2017-07-01 14:00:00  BTCUSD  2449.01  2480.60  2438.88  2457.90   \n",
       "4  2017-07-01 15:00:00  BTCUSD  2457.90  2471.88  2452.10  2466.35   \n",
       "\n",
       "   Volume BTC  Volume USD  Range    Value  ...  PercentChange  \\\n",
       "0      208.52   521903.70  15.12  2500.00  ...            NaN   \n",
       "1      243.08   607308.42  15.44  2495.62  ...      -0.001752   \n",
       "2      579.13  1421546.81  62.03  2449.01  ...      -0.018677   \n",
       "3      528.75  1302198.58  41.72  2457.90  ...       0.003630   \n",
       "4      292.31   719666.88  19.78  2466.35  ...       0.003438   \n",
       "\n",
       "   AbsPercentChange      DeTrend  Normalised  Year  Month  Doy  Week  \\\n",
       "0               NaN  2500.000000   -1.530610  2017      7  182    26   \n",
       "1          0.001752  2495.596391   -1.532005  2017      7  182    26   \n",
       "2          0.018677  2448.962783   -1.546849  2017      7  182    26   \n",
       "3          0.003630  2457.829174   -1.544018  2017      7  182    26   \n",
       "4          0.003438  2466.255565   -1.541327  2017      7  182    26   \n",
       "\n",
       "    DayName Hour  \n",
       "0  Saturday   11  \n",
       "1  Saturday   12  \n",
       "2  Saturday   13  \n",
       "3  Saturday   14  \n",
       "4  Saturday   15  \n",
       "\n",
       "[5 rows x 21 columns]"
      ]
     },
     "execution_count": 3,
     "metadata": {},
     "output_type": "execute_result"
    }
   ],
   "source": [
    "# trying to consolidate colab FFT_Norm notebook locally\n",
    "# !pip install scaleogram\n",
    "import pandas as pd\n",
    "import numpy as np\n",
    "from matplotlib import pyplot as plt\n",
    "import plotly.express as px\n",
    "\n",
    "df = pd.read_csv(\"DATASET.CSV\")\n",
    "df.head()"
   ]
  },
  {
   "cell_type": "code",
   "execution_count": 4,
   "metadata": {},
   "outputs": [
    {
     "name": "stdout",
     "output_type": "stream",
     "text": [
      "Index(['Date', 'Symbol', 'Open', 'High', 'Low', 'Close', 'Volume BTC',\n",
      "       'Volume USD', 'Range', 'Value', 'Returns', 'PercentChange',\n",
      "       'AbsPercentChange', 'DeTrend', 'Normalised', 'Year', 'Month', 'Doy',\n",
      "       'Week', 'DayName', 'Hour'],\n",
      "      dtype='object')\n"
     ]
    },
    {
     "data": {
      "application/vnd.jupyter.widget-view+json": {
       "model_id": "6a136ee88dab4c388936bda970bd9aa7",
       "version_major": 2,
       "version_minor": 0
      },
      "text/plain": [
       "VBox(children=(Figure(axes=[Axis(label='Date', scale=DateScale(), tick_format='%m/%d'), Axis(label='Price', or…"
      ]
     },
     "metadata": {},
     "output_type": "display_data"
    },
    {
     "ename": "NameError",
     "evalue": "name 'Figure' is not defined",
     "output_type": "error",
     "traceback": [
      "\u001b[1;31m---------------------------------------------------------------------------\u001b[0m",
      "\u001b[1;31mNameError\u001b[0m                                 Traceback (most recent call last)",
      "\u001b[1;32m<ipython-input-4-7901045c66b2>\u001b[0m in \u001b[0;36m<module>\u001b[1;34m\u001b[0m\n\u001b[0;32m     15\u001b[0m \u001b[0mplt\u001b[0m\u001b[1;33m.\u001b[0m\u001b[0mshow\u001b[0m\u001b[1;33m(\u001b[0m\u001b[1;33m)\u001b[0m\u001b[1;33m\u001b[0m\u001b[1;33m\u001b[0m\u001b[0m\n\u001b[0;32m     16\u001b[0m \u001b[1;33m\u001b[0m\u001b[0m\n\u001b[1;32m---> 17\u001b[1;33m fig_fast_intsel = Figure(marks=[line], axes=[x_ax, x_ay], title='Fast Interval Selector Example',\n\u001b[0m\u001b[0;32m     18\u001b[0m                          interaction=intsel_fast) #This is where we assign the interaction to this particular Figure\n\u001b[0;32m     19\u001b[0m \u001b[1;33m\u001b[0m\u001b[0m\n",
      "\u001b[1;31mNameError\u001b[0m: name 'Figure' is not defined"
     ]
    }
   ],
   "source": [
    "from bqplot import pyplot as plt\n",
    "df.Date = pd.to_datetime(df.Date)\n",
    "s_df = df[:50].copy()\n",
    "print(s_df.columns)\n",
    "'''\n",
    "fig = plt.figure(title='Changing Styles', background_style={'fill': 'lightgreen'},\n",
    "                 title_style={'font-size': '20px','fill': 'DarkOrange'})\n",
    "'''\n",
    "fig = plt.figure()\n",
    "axes_options = {}\n",
    "axes_options = {'x': {'label': 'Date', 'tick_format': '%m/%d'},\n",
    "                'y': {'label': 'Price', 'tick_format': '0.0f'}}\n",
    "line = plt.plot(s_df.Date, s_df.Close, 'b', axes_options=axes_options)\n",
    "line.on_element_click(lambda self, x: print(x))\n",
    "plt.show()\n",
    "\n",
    "fig_fast_intsel = Figure(marks=[line], axes=[x_ax, x_ay], title='Fast Interval Selector Example',\n",
    "                         interaction=intsel_fast) #This is where we assign the interaction to this particular Figure\n",
    "\n",
    "VBox([db_fast, fig_fast_intsel])"
   ]
  },
  {
   "cell_type": "code",
   "execution_count": 3,
   "metadata": {},
   "outputs": [
    {
     "data": {
      "application/vnd.jupyter.widget-view+json": {
       "model_id": "a53f906e43a74fda87fd7fc5a037d9e0",
       "version_major": 2,
       "version_minor": 0
      },
      "text/plain": [
       "VBox(children=(HTML(value='The selected period is None'), Figure(axes=[Axis(label='Index', scale=DateScale()),…"
      ]
     },
     "metadata": {},
     "output_type": "display_data"
    }
   ],
   "source": [
    "from ipywidgets import ToggleButtons, VBox, HTML\n",
    "from bqplot import DateColorScale, DateScale, LinearScale, Axis, Lines, Scatter, Bars, Hist, Figure\n",
    "from bqplot.interacts import (\n",
    "    FastIntervalSelector, IndexSelector, BrushIntervalSelector,\n",
    "    BrushSelector, MultiSelector, LassoSelector, PanZoom, HandDraw\n",
    ")\n",
    "from traitlets import link\n",
    "\n",
    "symbol = 'BTC'\n",
    "dates_actual = df.Date\n",
    "prices = df.Close\n",
    "\n",
    "dt_x_fast = DateScale()\n",
    "# dt_x_fast = DateColorScale()\n",
    "lin_y = LinearScale()\n",
    "x_ax = Axis(label='Index', scale=dt_x_fast)\n",
    "x_ay = Axis(label=(symbol + ' Price'), scale=lin_y, orientation='vertical')\n",
    "lc = Lines(x=dates_actual, y=prices, scales={'x': dt_x_fast, 'y': lin_y}, colors=['orange'])\n",
    "# lc_2 = Lines(x=dates_actual[50:], y=prices[50:] + 2000, scales={'x': dt_x_fast, 'y': lin_y}, colors=['blue'])\n",
    "\n",
    "intsel_fast = FastIntervalSelector(scale=dt_x_fast, marks=[lc])\n",
    "def fast_interval_change_callback(change):\n",
    "    db_fast.value = 'The selected period is ' + str(change.new)\n",
    "intsel_fast.observe(fast_interval_change_callback, names=['selected'])\n",
    "\n",
    "## on the selector\n",
    "db_fast = HTML()\n",
    "db_fast.value = 'The selected period is ' + str(intsel_fast.selected)\n",
    "\n",
    "fig_fast_intsel = Figure(marks=[lc], axes=[x_ax, x_ay], title='Fast Interval Selector Example',\n",
    "                         interaction=intsel_fast) #This is where we assign the interaction to this particular Figure\n",
    "\n",
    "VBox([db_fast, fig_fast_intsel])"
   ]
  },
  {
   "cell_type": "code",
   "execution_count": 4,
   "metadata": {},
   "outputs": [
    {
     "data": {
      "application/vnd.jupyter.widget-view+json": {
       "model_id": "bddbb05ea30244369f41b89d87e23702",
       "version_major": 2,
       "version_minor": 0
      },
      "text/plain": [
       "VBox(children=(HTML(value='[]'), Figure(axes=[Axis(label='Index', scale=DateScale(), side='bottom'), Axis(labe…"
      ]
     },
     "metadata": {},
     "output_type": "display_data"
    }
   ],
   "source": [
    "db_index = HTML(value='[]')\n",
    "## Now we try a selector made to select all the y-values associated with a single x-value\n",
    "index_sel = IndexSelector(scale=dt_x_fast, marks=[lc])\n",
    "\n",
    "handdraw = HandDraw(lines=lc)\n",
    "pz = PanZoom(scales={'x': [dt_x_fast], 'y': [lin_y]})\n",
    "\n",
    "## Now, we define a function that will be called when the selectors are interacted with\n",
    "def index_change_callback(change):\n",
    "    db_index.value = 'The selected date is ' + str(change.new)\n",
    "index_sel.observe(index_change_callback, names=['selected'])\n",
    "fig_index_sel = Figure(marks=[lc], axes=[x_ax, x_ay], title='Index Selector Example',\n",
    "                       interaction=index_sel)\n",
    "VBox([db_index, fig_index_sel])\n"
   ]
  },
  {
   "cell_type": "code",
   "execution_count": 60,
   "metadata": {},
   "outputs": [
    {
     "data": {
      "application/vnd.jupyter.widget-view+json": {
       "model_id": "5545b4c8727d46e8967dc72c24ef2f23",
       "version_major": 2,
       "version_minor": 0
      },
      "text/plain": [
       "VBox(children=(HTML(value='None'), Figure(axes=[Axis(label='Index', scale=DateScale(), side='bottom'), Axis(la…"
      ]
     },
     "metadata": {},
     "output_type": "display_data"
    }
   ],
   "source": [
    "# more for scatter plots\n",
    "# db_selection = HTML(value='[]')\n",
    "br_sel_dt = BrushSelector(x_scale=dt_x_fast, y_scale=lin_y, marks=[lc])\n",
    "db_brush_dt = HTML(value=str(br_sel_dt.selected))\n",
    "## call back for the selector\n",
    "def brush_dt_callback(change):\n",
    "    db_brush_dt.value = str(br_sel_dt.selected)\n",
    "br_sel_dt.observe(brush_dt_callback, names=['brushing'])\n",
    "fig_index_sel = Figure(marks=[lc], axes=[x_ax, x_ay], title='Index Selector Example',\n",
    "                       interaction=br_sel_dt)\n",
    "VBox([db_brush_dt, fig_index_sel])\n"
   ]
  },
  {
   "cell_type": "code",
   "execution_count": 3,
   "metadata": {},
   "outputs": [
    {
     "ename": "NameError",
     "evalue": "name 'FastIntervalSelector' is not defined",
     "output_type": "error",
     "traceback": [
      "\u001b[1;31m---------------------------------------------------------------------------\u001b[0m",
      "\u001b[1;31mNameError\u001b[0m                                 Traceback (most recent call last)",
      "\u001b[1;32m<ipython-input-3-16d6e7898df2>\u001b[0m in \u001b[0;36m<module>\u001b[1;34m\u001b[0m\n\u001b[0;32m      9\u001b[0m \u001b[1;33m\u001b[0m\u001b[0m\n\u001b[0;32m     10\u001b[0m \u001b[1;31m# create a fast interval selector by passing in the X scale and the line mark on which the selector operates\u001b[0m\u001b[1;33m\u001b[0m\u001b[1;33m\u001b[0m\u001b[1;33m\u001b[0m\u001b[0m\n\u001b[1;32m---> 11\u001b[1;33m \u001b[0mintsel\u001b[0m \u001b[1;33m=\u001b[0m \u001b[0mFastIntervalSelector\u001b[0m\u001b[1;33m(\u001b[0m\u001b[0mmarks\u001b[0m\u001b[1;33m=\u001b[0m\u001b[1;33m[\u001b[0m\u001b[0mline\u001b[0m\u001b[1;33m]\u001b[0m\u001b[1;33m,\u001b[0m \u001b[0mscale\u001b[0m\u001b[1;33m=\u001b[0m\u001b[0mline\u001b[0m\u001b[1;33m.\u001b[0m\u001b[0mscales\u001b[0m\u001b[1;33m[\u001b[0m\u001b[1;34m'x'\u001b[0m\u001b[1;33m]\u001b[0m\u001b[1;33m)\u001b[0m\u001b[1;33m\u001b[0m\u001b[1;33m\u001b[0m\u001b[0m\n\u001b[0m\u001b[0;32m     12\u001b[0m \u001b[0mtime_series_fig\u001b[0m\u001b[1;33m.\u001b[0m\u001b[0minteraction\u001b[0m \u001b[1;33m=\u001b[0m \u001b[0mintsel\u001b[0m \u001b[1;31m# set the interval selector on the figure\u001b[0m\u001b[1;33m\u001b[0m\u001b[1;33m\u001b[0m\u001b[0m\n\u001b[0;32m     13\u001b[0m \u001b[1;33m\u001b[0m\u001b[0m\n",
      "\u001b[1;31mNameError\u001b[0m: name 'FastIntervalSelector' is not defined"
     ]
    }
   ],
   "source": [
    "from ipywidgets import Layout, HTML, VBox\n",
    "import bqplot.pyplot as plt\n",
    "\n",
    "y1, y2 = np.random.randn(2, 200).cumsum(axis=1) # two simple random walks\n",
    "\n",
    "fig_layout = Layout(width='900px', height='500px')\n",
    "time_series_fig = plt.figure(layout=fig_layout)\n",
    "line = plt.plot([y1, y2])\n",
    "\n",
    "# create a fast interval selector by passing in the X scale and the line mark on which the selector operates\n",
    "intsel = FastIntervalSelector(marks=[line], scale=line.scales['x'])\n",
    "time_series_fig.interaction = intsel # set the interval selector on the figure\n",
    "\n",
    "scat_fig = plt.figure(layout=fig_layout, title='Scatter of time series slice selected by the interval selector')\n",
    "# set the x and y attributes to the y values of line.y\n",
    "scat = plt.scatter(*line.y, colors=['red'], stroke='black')\n",
    "def update_scatter(*args):\n",
    "    # get the start and end indices of the interval\n",
    "    start_ix, end_ix = line.selected[0], line.selected[-1]\n",
    "    \n",
    "    #update the x and y attributes of the scatter by slicing line.y\n",
    "    with scat.hold_sync():\n",
    "        scat.x, scat.y = line.y[:, start_ix:end_ix]\n",
    "\n",
    "# register the callback with line.selected trait\n",
    "line.observe(update_scatter, 'selected')\n",
    "\n",
    "help_label = HTML('<div style=\"color: blue; font-size: 16px; margin:20px 0px 0px 50px\">\\\n",
    "                  Click on the time series plot to activate the interval selector</div>')\n",
    "VBox([help_label, time_series_fig, scat_fig])"
   ]
  },
  {
   "cell_type": "code",
   "execution_count": 6,
   "metadata": {},
   "outputs": [
    {
     "data": {
      "application/vnd.jupyter.widget-view+json": {
       "model_id": "2c3b3cdd0e054e4698f57a0602e50353",
       "version_major": 2,
       "version_minor": 0
      },
      "text/plain": [
       "FigureWidget({\n",
       "    'data': [], 'layout': {'template': '...'}\n",
       "})"
      ]
     },
     "metadata": {},
     "output_type": "display_data"
    }
   ],
   "source": [
    "# seems this is fixed in latest plotly 4.6\n",
    "# https://plotly.com/python/chart-events/\n",
    "import plotly.graph_objects as go\n",
    "\n",
    "f = go.FigureWidget()\n",
    "f"
   ]
  },
  {
   "cell_type": "code",
   "execution_count": 7,
   "metadata": {},
   "outputs": [
    {
     "data": {
      "application/vnd.jupyter.widget-view+json": {
       "model_id": "f23fbf2ea4c04471afa06fe8e14bcc0b",
       "version_major": 2,
       "version_minor": 0
      },
      "text/plain": [
       "FigureWidget({\n",
       "    'data': [{'hovertemplate': '<b>%{hovertext}</b><br><br>index=%{x}<br>Close=%{y}<extra></ext…"
      ]
     },
     "metadata": {},
     "output_type": "display_data"
    }
   ],
   "source": [
    "import plotly.graph_objects as go\n",
    "import plotly_express as px\n",
    "\n",
    "fig = px.line(df, x=df.index, y=df.Close, hover_name='Date')\n",
    "f = go.FigureWidget(fig)\n",
    "\n",
    "# scat = go.Scatter(x=df.index, y=df.Close, mode='lines')\n",
    "# scat = go.Scatter(x=df.index, y=df.Close, mode='markers')\n",
    "# f = go.FigureWidget([scat])\n",
    "\n",
    "# points, state = Points(), InputDeviceState()\n",
    "\n",
    "def test(trace, points, state):\n",
    "    print(points)\n",
    "    print(state)\n",
    "\n",
    "f.data[0].on_click(test)\n",
    "\n",
    "f"
   ]
  },
  {
   "cell_type": "code",
   "execution_count": 47,
   "metadata": {},
   "outputs": [
    {
     "data": {
      "application/vnd.jupyter.widget-view+json": {
       "model_id": "ad360499779c4620b873c6a3b4c0d80a",
       "version_major": 2,
       "version_minor": 0
      },
      "text/plain": [
       "FigureWidget({\n",
       "    'data': [{'marker': {'color': [#a3a7e4, #a3a7e4, #a3a7e4, #a3a7e4, #a3a7e4,\n",
       "               …"
      ]
     },
     "metadata": {},
     "output_type": "display_data"
    }
   ],
   "source": [
    "import plotly.graph_objects as go\n",
    "\n",
    "import numpy as np\n",
    "np.random.seed(1)\n",
    "\n",
    "x = np.random.rand(100)\n",
    "y = np.random.rand(100)\n",
    "\n",
    "f = go.FigureWidget([go.Scatter(x=x, y=y, mode='markers')])\n",
    "\n",
    "scatter = f.data[0]\n",
    "colors = ['#a3a7e4'] * 100\n",
    "scatter.marker.color = colors\n",
    "scatter.marker.size = [10] * 100\n",
    "f.layout.hovermode = 'closest'\n",
    "\n",
    "\n",
    "# create our callback function\n",
    "def update_point(trace, points, selector):\n",
    "    c = list(scatter.marker.color)\n",
    "    s = list(scatter.marker.size)\n",
    "    for i in points.point_inds:\n",
    "        c[i] = '#bae2be'\n",
    "        s[i] = 20\n",
    "        with f.batch_update():\n",
    "            scatter.marker.color = c\n",
    "            scatter.marker.size = s\n",
    "\n",
    "\n",
    "scatter.on_click(update_point)\n",
    "\n",
    "# f.show()\n",
    "f"
   ]
  }
 ],
 "metadata": {
  "kernelspec": {
   "display_name": "Python 3.7.3 64-bit",
   "language": "python",
   "name": "python37364bitca4c8ac548bc4bbfa884c436edf70c79"
  },
  "language_info": {
   "codemirror_mode": {
    "name": "ipython",
    "version": 3
   },
   "file_extension": ".py",
   "mimetype": "text/x-python",
   "name": "python",
   "nbconvert_exporter": "python",
   "pygments_lexer": "ipython3",
   "version": "3.7.3"
  }
 },
 "nbformat": 4,
 "nbformat_minor": 4
}
