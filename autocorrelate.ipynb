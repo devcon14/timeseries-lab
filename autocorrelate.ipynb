{
 "cells": [
  {
   "cell_type": "code",
   "execution_count": null,
   "metadata": {},
   "outputs": [],
   "source": [
    "# https://stackoverflow.com/questions/54017871/question-about-autocorrelation-plot-result-vs-autocorr-result"
   ]
  },
  {
   "cell_type": "code",
   "execution_count": null,
   "metadata": {},
   "outputs": [],
   "source": [
    "DATAFOLDER = \"data\"\n",
    "import pandas as pd\n",
    "df = pd.read_csv(\"DATASET.csv\")"
   ]
  },
  {
   "cell_type": "code",
   "execution_count": null,
   "metadata": {},
   "outputs": [],
   "source": [
    "from pandas.plotting import autocorrelation_plot\n",
    "r = autocorrelation_plot(df.Close)\n",
    "print (r)"
   ]
  },
  {
   "cell_type": "code",
   "execution_count": null,
   "metadata": {},
   "outputs": [],
   "source": [
    "col = \"Close\"\n",
    "corr_d = {\n",
    "    \"autocorrelation\": [],\n",
    "}\n",
    "length = len(df) - 1\n",
    "for lag in range(length):\n",
    "    if lag == 0:\n",
    "        corr_d[\"autocorrelation\"].append(1)\n",
    "        continue\n",
    "    corr_d[\"autocorrelation\"].append(df[col].autocorr(lag))\n",
    "df_ac = pd.DataFrame(corr_d)\n",
    "\n",
    "import plotly.express as px\n",
    "px.line(x=df_ac.index, y=df_ac.autocorrelation)"
   ]
  },
  {
   "cell_type": "code",
   "execution_count": null,
   "metadata": {},
   "outputs": [],
   "source": [
    "df[col].plot(logy=True)\n",
    "df[col].shift(1346).plot(logy=True)"
   ]
  }
 ],
 "metadata": {
  "kernelspec": {
   "display_name": "Python 3",
   "language": "python",
   "name": "python3"
  },
  "language_info": {
   "codemirror_mode": {
    "name": "ipython",
    "version": 3
   },
   "file_extension": ".py",
   "mimetype": "text/x-python",
   "name": "python",
   "nbconvert_exporter": "python",
   "pygments_lexer": "ipython3",
   "version": "3.7.4"
  }
 },
 "nbformat": 4,
 "nbformat_minor": 2
}
