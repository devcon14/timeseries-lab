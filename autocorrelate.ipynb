{
 "cells": [
  {
   "cell_type": "code",
   "execution_count": null,
   "metadata": {},
   "outputs": [],
   "source": [
    "# https://stackoverflow.com/questions/54017871/question-about-autocorrelation-plot-result-vs-autocorr-result"
   ]
  },
  {
   "cell_type": "code",
   "execution_count": null,
   "metadata": {},
   "outputs": [],
   "source": [
    "DATAFOLDER = \"data\"\n",
    "import pandas as pd\n",
    "from preprocess import load_frame\n",
    "# df = pd.read_csv(\"DATASET.csv\")\n",
    "df = load_frame()\n",
    "df.head()"
   ]
  },
  {
   "cell_type": "code",
   "execution_count": null,
   "metadata": {},
   "outputs": [],
   "source": [
    "from pandas.plotting import autocorrelation_plot\n",
    "r = autocorrelation_plot(df.close)\n",
    "print (r)"
   ]
  },
  {
   "cell_type": "code",
   "execution_count": null,
   "metadata": {},
   "outputs": [],
   "source": [
    "col = \"close\"\n",
    "corr_d = {\n",
    "    \"autocorrelation\": [],\n",
    "}\n",
    "length = len(df) - 1\n",
    "for lag in range(length):\n",
    "    if lag == 0:\n",
    "        corr_d[\"autocorrelation\"].append(1)\n",
    "        continue\n",
    "    corr_d[\"autocorrelation\"].append(df[col].autocorr(lag))\n",
    "df_ac = pd.DataFrame(corr_d)\n",
    "\n",
    "import plotly.express as px\n",
    "px.line(x=df_ac.index, y=df_ac.autocorrelation)"
   ]
  },
  {
   "cell_type": "code",
   "execution_count": null,
   "metadata": {},
   "outputs": [],
   "source": [
    "df[col].plot(logy=True)\n",
    "df[col].shift(1447).plot(logy=True)"
   ]
  },
  {
   "cell_type": "code",
   "execution_count": null,
   "metadata": {},
   "outputs": [],
   "source": [
    "import pandas as pd\n",
    "import numpy as np\n",
    "\n",
    "# https://stats.stackexchange.com/questions/111840/library-routine-for-rolling-window-lag-1-autocorrelation\n",
    "\n",
    "features = []\n",
    "for lag_i in range(3, 25):\n",
    "    feature = f\"ac{lag_i}\"\n",
    "    features.append(feature)\n",
    "    df[feature] = df[\"close\"].rolling(20).apply(lambda x: pd.Series(x).autocorr(lag=lag_i))\n",
    "df = df.fillna(0)\n",
    "df[features].T\n"
   ]
  },
  {
   "cell_type": "code",
   "execution_count": null,
   "metadata": {},
   "outputs": [],
   "source": [
    "import plotly.express as px\n",
    "\n",
    "grid = df[features][4000:].T\n",
    "print (grid)\n",
    "df_line = df[4000:]\n",
    "\n",
    "px.line(df_line, x=df_line.index, y=df_line.close).show()\n",
    "\n",
    "px.imshow(grid).show()\n"
   ]
  }
 ],
 "metadata": {
  "kernelspec": {
   "display_name": "Python 3",
   "language": "python",
   "name": "python3"
  },
  "language_info": {
   "codemirror_mode": {
    "name": "ipython",
    "version": 3
   },
   "file_extension": ".py",
   "mimetype": "text/x-python",
   "name": "python",
   "nbconvert_exporter": "python",
   "pygments_lexer": "ipython3",
   "version": "3.7.3-final"
  }
 },
 "nbformat": 4,
 "nbformat_minor": 2
}